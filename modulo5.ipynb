{
 "cells": [
  {
   "cell_type": "markdown",
   "metadata": {},
   "source": [
    "# Ejercicio 1 Kata"
   ]
  },
  {
   "cell_type": "code",
   "execution_count": 1,
   "metadata": {},
   "outputs": [],
   "source": [
    "distancia_tierra = 149597870\n",
    "distancia_jupiter = 778547200"
   ]
  },
  {
   "cell_type": "code",
   "execution_count": 4,
   "metadata": {},
   "outputs": [
    {
     "name": "stdout",
     "output_type": "stream",
     "text": [
      "628949330\n",
      "390577533.93\n"
     ]
    }
   ],
   "source": [
    "distancia_planetas = distancia_jupiter - distancia_tierra\n",
    "print(distancia_planetas)\n",
    "\n",
    "distancia_millas = distancia_planetas * 0.621\n",
    "print(distancia_millas)"
   ]
  },
  {
   "cell_type": "code",
   "execution_count": 11,
   "metadata": {},
   "outputs": [
    {
     "name": "stdout",
     "output_type": "stream",
     "text": [
      "La distancia de el sol al primer planeta es 149600000\n",
      "La distancia de el sol al primer planeta es 778600000\n"
     ]
    }
   ],
   "source": [
    "distancia_tierra = input('Ingrese la distancia del sol a la tierra KM')\n",
    "distancia_jupiter = input('Ingrese la distancia desde el sol a jupiter en KM')\n",
    "\n",
    "print(f'La distancia de el sol al primer planeta es {distancia_tierra}')\n",
    "print(f'La distancia de el sol al primer planeta es {distancia_jupiter}')"
   ]
  },
  {
   "cell_type": "code",
   "execution_count": 12,
   "metadata": {},
   "outputs": [
    {
     "name": "stdout",
     "output_type": "stream",
     "text": [
      "778600000\n"
     ]
    }
   ],
   "source": [
    "distancia_tierra = int(distancia_tierra)\n",
    "distancia_jupiter = int(distancia_jupiter)\n",
    "\n",
    "print(distancia_jupiter)"
   ]
  },
  {
   "cell_type": "code",
   "execution_count": 13,
   "metadata": {},
   "outputs": [
    {
     "name": "stdout",
     "output_type": "stream",
     "text": [
      "629000000\n",
      "390609000.0\n"
     ]
    }
   ],
   "source": [
    "distancia = distancia_jupiter - distancia_tierra\n",
    "print(distancia)\n",
    "\n",
    "\n",
    "distancia_millas = distancia * 0.621\n",
    "print(abs(distancia_millas))"
   ]
  }
 ],
 "metadata": {
  "interpreter": {
   "hash": "aee8b7b246df8f9039afb4144a1f6fd8d2ca17a180786b69acc140d282b71a49"
  },
  "kernelspec": {
   "display_name": "Python 3.10.2 64-bit",
   "language": "python",
   "name": "python3"
  },
  "language_info": {
   "codemirror_mode": {
    "name": "ipython",
    "version": 3
   },
   "file_extension": ".py",
   "mimetype": "text/x-python",
   "name": "python",
   "nbconvert_exporter": "python",
   "pygments_lexer": "ipython3",
   "version": "3.10.2"
  },
  "orig_nbformat": 4
 },
 "nbformat": 4,
 "nbformat_minor": 2
}
